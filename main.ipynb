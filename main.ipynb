{
 "cells": [
  {
   "cell_type": "code",
   "execution_count": 131,
   "metadata": {},
   "outputs": [],
   "source": [
    "import pandas as pd\n",
    "import numpy as np\n",
    "import matplotlib.pyplot as plt\n",
    "import time\n",
    "\n",
    "from sklearn.metrics import accuracy_score\n",
    "from sklearn.svm import SVC, LinearSVC\n",
    "from sklearn.model_selection import train_test_split\n",
    "\n",
    "from sklearn.datasets import load_digits, load_wine, load_breast_cancer, load_iris\n"
   ]
  },
  {
   "cell_type": "code",
   "execution_count": 132,
   "metadata": {},
   "outputs": [],
   "source": [
    "## SVM WTIH DIFFERENT KERNELS\n",
    "svm1 = LinearSVC(dual=False)\n",
    "svm1.name = 'linear_kernel'\n",
    "\n",
    "svm2 = SVC(C=1.0, kernel='poly', degree=3, gamma=2,max_iter = 1e5)\n",
    "svm2.name = 'poly_kernel'\n",
    "\n",
    "svm3 = SVC(kernel='sigmoid')\n",
    "svm3.name = 'sigmoid_kernel'\n",
    "\n",
    "svm4 = SVC(kernel='rbf')\n",
    "svm4.name = 'rbf_kernel'\n",
    "#  i can twig the hyperparmeters!!\n",
    "\n",
    "# DATASETS\n",
    "dataset1 = load_digits()\n",
    "dataset1.name = 'ds_digits'\n",
    "\n",
    "dataset2 = load_iris()\n",
    "dataset2.name = 'ds_iris'\n",
    "\n",
    "dataset3 = load_wine()\n",
    "dataset3.name = 'ds_wine'\n",
    "\n",
    "dataset4 = load_breast_cancer()\n",
    "dataset4.name = 'da_breast_cancer'"
   ]
  },
  {
   "cell_type": "code",
   "execution_count": 133,
   "metadata": {},
   "outputs": [
    {
     "name": "stderr",
     "output_type": "stream",
     "text": [
      "c:\\Users\\prizl\\anaconda3\\lib\\site-packages\\sklearn\\svm\\_base.py:255: ConvergenceWarning: Solver terminated early (max_iter=100000).  Consider pre-processing your data with StandardScaler or MinMaxScaler.\n",
      "  warnings.warn('Solver terminated early (max_iter=%i).'\n",
      "c:\\Users\\prizl\\anaconda3\\lib\\site-packages\\sklearn\\svm\\_base.py:255: ConvergenceWarning: Solver terminated early (max_iter=100000).  Consider pre-processing your data with StandardScaler or MinMaxScaler.\n",
      "  warnings.warn('Solver terminated early (max_iter=%i).'\n"
     ]
    }
   ],
   "source": [
    "# COMPARING PERFORMANCE OF DIFFERENT SVMS WITH DIFFERENT DATASETS\n",
    " \n",
    "list_acc = []\n",
    "list_train_time = []\n",
    "\n",
    "rounding_num = 4\n",
    "\n",
    "for svm in [svm1, svm2, svm3, svm4]:\n",
    "    list_acc_for_one_ds = []\n",
    "    list_train_time_for_one_ds = []\n",
    "\n",
    "    for dataset in [dataset1, dataset2, dataset3, dataset4]:\n",
    "        # dataset1.name = 'ds1'\n",
    "        # dataset2.name = 'ds2'\n",
    "        # dataset3.name = 'ds3'\n",
    "\n",
    "        ## PREPROCESS \n",
    "        # Read the DataFrame, first using the feature data\n",
    "        df = pd.DataFrame(dataset.data, columns=dataset.feature_names)\n",
    "\n",
    "        # Add a target column, and fill it with the target data\n",
    "        df['target'] = dataset.target\n",
    "\n",
    "        # Store the feature data\n",
    "        x = dataset.data\n",
    "\n",
    "        # store the target data\n",
    "        y = dataset.target\n",
    "\n",
    "        # split the data using Scikit-Learn's train_test_splitfrom sklearn.model_selection import train_test_split\n",
    "        x_train, x_test, y_train, y_test = train_test_split(x, y)    \n",
    "        \n",
    "        # measuring training time\n",
    "        start = time.time()\n",
    "\n",
    "        ## TRAIN SVM\n",
    "        svm.fit(x_train, y_train)\n",
    "        \n",
    "        # measuring training time\n",
    "        stop = time.time()\n",
    "        # print(f\"Training time for {svm.name, dataset.name}: {stop - start}s\")\n",
    "        train_time = stop - start\n",
    "        train_time = round(train_time, rounding_num)\n",
    "        list_train_time_for_one_ds.append(train_time)\n",
    "\n",
    "        # compare whether the svm predicted the right target/label for the test dataset\n",
    "        pred_test = svm.predict(x_test)\n",
    "        acc = accuracy_score(y_test, pred_test, normalize=True)\n",
    "\n",
    "        # round up the number until the 2nd decimal number\n",
    "        acc = round(acc, rounding_num) \n",
    "\n",
    "        # append the accuracy to the list of accuracy for one dataset\n",
    "        list_acc_for_one_ds.append(acc)\n",
    "        \n",
    "        # print(svm.name, dataset.name, acc)\n",
    "\n",
    "    # append the list of accuracies for one dataset to the list of accuracies for the all 3 datasets\n",
    "    # for example, the first list inside the list_acc is the accuracies of the dataset1\n",
    "    list_acc.append(list_acc_for_one_ds)   \n",
    "    list_train_time.append(list_train_time_for_one_ds) \n",
    "    # print(list_acc)\n"
   ]
  },
  {
   "cell_type": "code",
   "execution_count": 140,
   "metadata": {},
   "outputs": [
    {
     "data": {
      "text/html": [
       "<div>\n",
       "<style scoped>\n",
       "    .dataframe tbody tr th:only-of-type {\n",
       "        vertical-align: middle;\n",
       "    }\n",
       "\n",
       "    .dataframe tbody tr th {\n",
       "        vertical-align: top;\n",
       "    }\n",
       "\n",
       "    .dataframe thead th {\n",
       "        text-align: right;\n",
       "    }\n",
       "</style>\n",
       "<table border=\"1\" class=\"dataframe\">\n",
       "  <thead>\n",
       "    <tr style=\"text-align: right;\">\n",
       "      <th></th>\n",
       "      <th>ds1</th>\n",
       "      <th>ds2</th>\n",
       "      <th>ds3</th>\n",
       "      <th>ds4</th>\n",
       "    </tr>\n",
       "  </thead>\n",
       "  <tbody>\n",
       "    <tr>\n",
       "      <th>svm1</th>\n",
       "      <td>0.0492</td>\n",
       "      <td>0.0015</td>\n",
       "      <td>0.0010</td>\n",
       "      <td>0.0010</td>\n",
       "    </tr>\n",
       "    <tr>\n",
       "      <th>svm2</th>\n",
       "      <td>0.0210</td>\n",
       "      <td>0.0000</td>\n",
       "      <td>0.0229</td>\n",
       "      <td>0.0697</td>\n",
       "    </tr>\n",
       "    <tr>\n",
       "      <th>svm3</th>\n",
       "      <td>0.0745</td>\n",
       "      <td>0.0060</td>\n",
       "      <td>0.0010</td>\n",
       "      <td>0.0086</td>\n",
       "    </tr>\n",
       "    <tr>\n",
       "      <th>svm4</th>\n",
       "      <td>0.0393</td>\n",
       "      <td>0.0010</td>\n",
       "      <td>0.0010</td>\n",
       "      <td>0.0030</td>\n",
       "    </tr>\n",
       "  </tbody>\n",
       "</table>\n",
       "</div>"
      ],
      "text/plain": [
       "         ds1     ds2     ds3     ds4\n",
       "svm1  0.0492  0.0015  0.0010  0.0010\n",
       "svm2  0.0210  0.0000  0.0229  0.0697\n",
       "svm3  0.0745  0.0060  0.0010  0.0086\n",
       "svm4  0.0393  0.0010  0.0010  0.0030"
      ]
     },
     "execution_count": 140,
     "metadata": {},
     "output_type": "execute_result"
    }
   ],
   "source": [
    "df_perform = pd.DataFrame(list_acc, columns = ['ds1', 'ds2', 'ds3', 'ds4'], index= ['svm1', 'svm2','svm3', 'svm4'])\n",
    "df_time = pd.DataFrame(list_train_time, columns = ['ds1', 'ds2', 'ds3', 'ds4'], index= ['svm1', 'svm2','svm3', 'svm4'])\n",
    "\n",
    "df_perform\n",
    "df_time"
   ]
  },
  {
   "cell_type": "code",
   "execution_count": 139,
   "metadata": {},
   "outputs": [
    {
     "data": {
      "text/plain": [
       "<AxesSubplot:>"
      ]
     },
     "execution_count": 139,
     "metadata": {},
     "output_type": "execute_result"
    },
    {
     "data": {
      "image/png": "[encoded data removed]",
      "text/plain": [
       "<Figure size 432x288 with 1 Axes>"
      ]
     },
     "metadata": {
      "needs_background": "light"
     },
     "output_type": "display_data"
    },
    {
     "data": {
      "image/png": "[encoded data removed]",
      "text/plain": [
       "<Figure size 432x288 with 1 Axes>"
      ]
     },
     "metadata": {
      "needs_background": "light"
     },
     "output_type": "display_data"
    }
   ],
   "source": [
    "df_perform.plot.bar()\n",
    "df_time.plot.bar()"
   ]
  },
  {
   "cell_type": "code",
   "execution_count": null,
   "metadata": {},
   "outputs": [],
   "source": []
  }
 ],
 "metadata": {
  "kernelspec": {
   "display_name": "base",
   "language": "python",
   "name": "python3"
  },
  "language_info": {
   "codemirror_mode": {
    "name": "ipython",
    "version": 3
   },
   "file_extension": ".py",
   "mimetype": "text/x-python",
   "name": "python",
   "nbconvert_exporter": "python",
   "pygments_lexer": "ipython3",
   "version": "3.8.8"
  }
 },
 "nbformat": 4,
 "nbformat_minor": 2
}
