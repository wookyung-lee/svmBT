{
 "cells": [
  {
   "cell_type": "code",
   "execution_count": null,
   "metadata": {},
   "outputs": [],
   "source": []
  },
  {
   "cell_type": "code",
   "execution_count": null,
   "metadata": {},
   "outputs": [],
   "source": [
    "def preprocess(dataset):\n",
    "\n",
    "    # Read the DataFrame, first using the feature data\n",
    "    df = pd.DataFrame(dataset.data, columns=dataset.feature_names)\n",
    "\n",
    "    # Add a target column, and fill it with the target data\n",
    "    df['target'] = dataset.target\n",
    "\n",
    "    # Store the feature data\n",
    "    x = dataset.data\n",
    "\n",
    "    # store the target data\n",
    "    y = dataset.target\n",
    "\n",
    "    # split the data using Scikit-Learn's train_test_splitfrom sklearn.model_selection import train_test_split\n",
    "    x_train, x_test, y_train, y_test = train_test_split(x, y)    \n",
    "    "
   ]
  },
  {
   "cell_type": "code",
   "execution_count": null,
   "metadata": {},
   "outputs": [],
   "source": [
    "def svm(dataset, svm):\n",
    "\n",
    "    # Read the DataFrame, first using the feature data\n",
    "    df = pd.DataFrame(dataset.data, columns=dataset.feature_names)\n",
    "\n",
    "    # Add a target column, and fill it with the target data\n",
    "    df['target'] = dataset.target\n",
    "\n",
    "    # Store the feature data\n",
    "    x = dataset.data\n",
    "\n",
    "    # store the target data\n",
    "    y = dataset.target\n",
    "\n",
    "    # split the data using Scikit-Learn's train_test_splitfrom sklearn.model_selection import train_test_split\n",
    "    x_train, x_test, y_train, y_test = train_test_split(x, y)    \n",
    "            \n",
    "    # train svm\n",
    "    svm.fit(x_train, y_train)\n",
    "\n",
    "    # compare whether the svm predicted the right target/label for the test dataset\n",
    "    pred_test = svm.predict(x_test)\n",
    "    accuracy_score(y_test, pred_test)\n"
   ]
  }
 ],
 "metadata": {
  "language_info": {
   "name": "python"
  }
 },
 "nbformat": 4,
 "nbformat_minor": 2
}
