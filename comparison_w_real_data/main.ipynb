{
 "cells": [
  {
   "cell_type": "code",
   "execution_count": 11,
   "metadata": {},
   "outputs": [],
   "source": [
    "import pandas as pd\n",
    "import numpy as np\n",
    "import matplotlib.pyplot as plt\n",
    "import matplotlib.lines as mlines\n",
    "import os\n",
    "import time\n",
    "\n",
    "from sklearn.metrics import accuracy_score\n",
    "from sklearn.svm import SVC, LinearSVC\n",
    "\n",
    "import numpy as np\n",
    "from tensorflow import keras"
   ]
  },
  {
   "cell_type": "markdown",
   "metadata": {},
   "source": [
    "Load and preprocess datasets"
   ]
  },
  {
   "cell_type": "code",
   "execution_count": 12,
   "metadata": {},
   "outputs": [],
   "source": [
    "(train_images_1, train_labels_1), (test_images_1, test_labels_1) = keras.datasets.mnist.load_data()\n",
    "num_img = 5000\n",
    "\n",
    "# reshape images from 3D array to 2D array so that SVC can process it\n",
    "samples_1, x_1, y_1 = train_images_1.shape # originally (60000, 28, 28)\n",
    "train_images_1 = train_images_1.reshape((samples_1, x_1*y_1)) # reshaped to (60000, 784)\n",
    "train_images_1 = train_images_1[:num_img, :] # to (num_img, 784)\n",
    "\n",
    "# # normalize inputs\n",
    "# train_images_1 = (train_images_1/255)-0.5\n",
    "\n",
    "train_labels_1 = train_labels_1[:num_img] # from (60000, 1) to (num_img, 1)\n",
    "train_labels_1 = train_labels_1.ravel() # from (num_img, 1) to (num_img,)\n",
    "\n",
    "\n",
    "samples_1, x_1, y_1 = test_images_1.shape # originally (10000, 28, 28)\n",
    "test_images_1 = test_images_1.reshape((samples_1, x_1*y_1)) # reshaped to (10000, 784)\n",
    "test_images_1 = test_images_1[:num_img, :] # to (num_img, 784)\n",
    "\n",
    "# # normalize inputs\n",
    "# test_images_1 = (test_images_1/255)-0.5\n",
    "\n",
    "test_labels_1 = test_labels_1[:num_img] # from (60000, 1) to (num_img, 1)\n",
    "test_labels_1 = test_labels_1.ravel() # from (num_img, 1) to (num_img,)\n"
   ]
  },
  {
   "cell_type": "code",
   "execution_count": 13,
   "metadata": {},
   "outputs": [],
   "source": [
    "(train_images_2, train_labels_2), (test_images_2, test_labels_2) = keras.datasets.cifar10.load_data()\n",
    "num_img = 5000\n",
    "\n",
    "# reshape images from 3D array to 2D array so that SVC can process it\n",
    "samples_2, x_2, y_2, c_2 = train_images_2.shape # originally (50000, 32, 32, 3)\n",
    "train_images_2 = train_images_2.reshape((samples_2, x_2*y_2*c_2)) # reshaped to (50000, 3072)\n",
    "train_images_2 = train_images_2[:num_img, :] # to (num_img, 3072)\n",
    "\n",
    "# # normalize inputs\n",
    "# train_images_2 = (train_images_2/255)-0.5\n",
    "\n",
    "train_labels_2 = train_labels_2[:num_img] # from (50000, 1) to (num_img, 1)\n",
    "train_labels_2 = train_labels_2.ravel() # from (num_img, 1) to (num_img,)\n",
    "\n",
    "samples_2, x_2, y_2, c_2 = test_images_2.shape # originally (10000, 32, 32)\n",
    "test_images_2 = test_images_2.reshape((samples_2, x_2*y_2*c_2)) # reshaped to (10000, 3072)\n",
    "test_images_2 = test_images_2[:num_img, :] # to (num_img, 3072)\n",
    "\n",
    "# # normalize inputs\n",
    "# test_images_2 = (test_images_2/255)-0.5\n",
    "\n",
    "test_labels_2 = test_labels_2[:num_img] # from (num_img00,1) to (num_img,1)\n",
    "test_labels_2 = test_labels_2.ravel() # from (num_img, 1) to (num_img,)"
   ]
  },
  {
   "cell_type": "code",
   "execution_count": 14,
   "metadata": {},
   "outputs": [],
   "source": [
    "# Kernels\n",
    "linear_kernel = LinearSVC(dual=False)\n",
    "\n",
    "poly_kernel = SVC(kernel='poly', degree=3, gamma='scale', coef0=0) # if gamma='scale' (default) is passed then it uses 1 / (n_features * X.var()) as value of gamma\n",
    "\n",
    "rbf_kernel = SVC(kernel='rbf', gamma='scale', coef0=0)\n",
    "\n",
    "sigmoid_kernel = SVC(kernel='sigmoid', gamma='scale', coef0=0)"
   ]
  },
  {
   "cell_type": "code",
   "execution_count": 15,
   "metadata": {},
   "outputs": [
    {
     "name": "stderr",
     "output_type": "stream",
     "text": [
      "C:\\Users\\prizl\\AppData\\Roaming\\Python\\Python38\\site-packages\\sklearn\\svm\\_base.py:1250: ConvergenceWarning: Liblinear failed to converge, increase the number of iterations.\n",
      "  warnings.warn(\n",
      "C:\\Users\\prizl\\AppData\\Roaming\\Python\\Python38\\site-packages\\sklearn\\svm\\_base.py:1250: ConvergenceWarning: Liblinear failed to converge, increase the number of iterations.\n",
      "  warnings.warn(\n"
     ]
    }
   ],
   "source": [
    "list_acc = []\n",
    "list_train_time = []\n",
    "\n",
    "data_tuple = [(train_images_1, train_labels_1, test_images_1, test_labels_1), (train_images_2, train_labels_2, test_images_2, test_labels_2) ]\n",
    "\n",
    "rounding_num = 4\n",
    "\n",
    "for svm in [linear_kernel, poly_kernel, rbf_kernel, sigmoid_kernel]:\n",
    "    list_acc_for_one_ds = []\n",
    "    list_train_time_for_one_ds = []\n",
    "\n",
    "    for img_train, lab_train, img_test, lab_test in data_tuple: \n",
    "        \n",
    "        # measuring when training time starts\n",
    "        start = time.time()\n",
    "\n",
    "        ## TRAIN SVM\n",
    "        svm.fit(img_train, lab_train)\n",
    "        \n",
    "        # measuring when training time stops\n",
    "        stop = time.time()\n",
    "        # print(f\"Training time for {svm.name, dataset.name}: {stop - start}s\")\n",
    "        train_time = stop - start\n",
    "        train_time = round(train_time, rounding_num)\n",
    "        list_train_time_for_one_ds.append(train_time)\n",
    "\n",
    "        # compare whether the svm predicted the right target/label for the test dataset\n",
    "        pred_test = svm.predict(img_test)\n",
    "        acc = accuracy_score(lab_test, pred_test, normalize=True)\n",
    "\n",
    "        # round up the number until the 2nd decimal number\n",
    "        acc = round(acc, rounding_num) \n",
    "\n",
    "        # append the accuracy to the list of accuracy for one dataset\n",
    "        list_acc_for_one_ds.append(acc)\n",
    "    \n",
    "\n",
    "    # append the list of accuracies for one dataset to the list of accuracies for the all 3 datasets\n",
    "    # for example, the first list inside the list_acc is the accuracies of the dataset1\n",
    "    list_acc.append(list_acc_for_one_ds)   \n",
    "    list_train_time.append(list_train_time_for_one_ds) \n"
   ]
  },
  {
   "cell_type": "code",
   "execution_count": 16,
   "metadata": {},
   "outputs": [
    {
     "data": {
      "text/html": [
       "<div>\n",
       "<style scoped>\n",
       "    .dataframe tbody tr th:only-of-type {\n",
       "        vertical-align: middle;\n",
       "    }\n",
       "\n",
       "    .dataframe tbody tr th {\n",
       "        vertical-align: top;\n",
       "    }\n",
       "\n",
       "    .dataframe thead th {\n",
       "        text-align: right;\n",
       "    }\n",
       "</style>\n",
       "<table border=\"1\" class=\"dataframe\">\n",
       "  <thead>\n",
       "    <tr style=\"text-align: right;\">\n",
       "      <th></th>\n",
       "      <th>MNIST</th>\n",
       "      <th>CIFAR-10</th>\n",
       "    </tr>\n",
       "  </thead>\n",
       "  <tbody>\n",
       "    <tr>\n",
       "      <th>linear kernel</th>\n",
       "      <td>11.9371</td>\n",
       "      <td>1631.8642</td>\n",
       "    </tr>\n",
       "    <tr>\n",
       "      <th>polynomial kernel</th>\n",
       "      <td>4.5851</td>\n",
       "      <td>50.7355</td>\n",
       "    </tr>\n",
       "    <tr>\n",
       "      <th>RBF kernel</th>\n",
       "      <td>4.2194</td>\n",
       "      <td>45.4719</td>\n",
       "    </tr>\n",
       "    <tr>\n",
       "      <th>sigmoid kernel</th>\n",
       "      <td>3.7252</td>\n",
       "      <td>47.8534</td>\n",
       "    </tr>\n",
       "  </tbody>\n",
       "</table>\n",
       "</div>"
      ],
      "text/plain": [
       "                     MNIST   CIFAR-10\n",
       "linear kernel      11.9371  1631.8642\n",
       "polynomial kernel   4.5851    50.7355\n",
       "RBF kernel          4.2194    45.4719\n",
       "sigmoid kernel      3.7252    47.8534"
      ]
     },
     "execution_count": 16,
     "metadata": {},
     "output_type": "execute_result"
    }
   ],
   "source": [
    "df_perform = pd.DataFrame(list_acc, index = ['linear kernel', 'polynomial kernel','RBF kernel', 'sigmoid kernel'], \n",
    "                                    columns= ['MNIST', 'CIFAR-10'])\n",
    "df_time = pd.DataFrame(list_train_time, index = ['linear kernel', 'polynomial kernel','RBF kernel', 'sigmoid kernel'], \n",
    "                                    columns= ['MNIST', 'CIFAR-10'])\n",
    "\n",
    "df_time"
   ]
  },
  {
   "cell_type": "markdown",
   "metadata": {},
   "source": [
    "Plotting the dataframe"
   ]
  },
  {
   "cell_type": "code",
   "execution_count": 17,
   "metadata": {},
   "outputs": [],
   "source": [
    "# preparation for color blind friendly plots\n",
    "\n",
    "blue_o = mlines.Line2D([], [], color='#1f77b4', marker='o',\n",
    "                          markersize=8, label='MNIST')\n",
    "orange_x = mlines.Line2D([], [], color='#ff7f0e', marker='x',\n",
    "                          markersize=8, label='CIFAR-10')\n",
    "\n",
    "markers = [\"o\", \"x\"]"
   ]
  },
  {
   "cell_type": "code",
   "execution_count": 18,
   "metadata": {},
   "outputs": [
    {
     "data": {
      "image/png": "[encoded data removed]",
      "text/plain": [
       "<Figure size 432x288 with 1 Axes>"
      ]
     },
     "metadata": {
      "needs_background": "light"
     },
     "output_type": "display_data"
    }
   ],
   "source": [
    "plot_c = df_perform.plot.line() #(title=\"Plot C (accuracy)\")\n",
    "\n",
    "for i, line in enumerate(plot_c.get_lines()):\n",
    "    line.set_marker(markers[i])\n",
    "\n",
    "plot_c.legend(handles=[blue_o, orange_x])\n",
    "\n",
    "plot_c=plot_c.figure\n",
    "plot_c.savefig(f'image/plot_c.jpg')"
   ]
  },
  {
   "cell_type": "code",
   "execution_count": 19,
   "metadata": {},
   "outputs": [
    {
     "data": {
      "image/png": "[encoded data removed]",
      "text/plain": [
       "<Figure size 432x288 with 1 Axes>"
      ]
     },
     "metadata": {
      "needs_background": "light"
     },
     "output_type": "display_data"
    }
   ],
   "source": [
    "plot_d_1 = df_time.plot() #(title=\"Plot D (time complexity)\")\n",
    "\n",
    "for i, line in enumerate(plot_d_1.get_lines()):\n",
    "    line.set_marker(markers[i])\n",
    "\n",
    "plot_d_1.legend(handles=[blue_o, orange_x])\n",
    "\n",
    "plot_d_1=plot_d_1.figure\n",
    "plot_d_1.savefig(f'image/plot_d_1.jpg')"
   ]
  },
  {
   "cell_type": "code",
   "execution_count": 25,
   "metadata": {},
   "outputs": [
    {
     "data": {
      "image/png": "[encoded data removed]",
      "text/plain": [
       "<Figure size 432x288 with 1 Axes>"
      ]
     },
     "metadata": {
      "needs_background": "light"
     },
     "output_type": "display_data"
    }
   ],
   "source": [
    "plot_d_2 = df_time.plot() #(title=\"Plot D (time complexity, zoomed in)\")\n",
    "plot_d_2.set_ylim(0,55) # disregarding the outlier which was too high\n",
    "\n",
    "for i, line in enumerate(plot_d_2.get_lines()):\n",
    "    line.set_marker(markers[i])\n",
    "\n",
    "plot_d_2.legend(handles=[blue_o, orange_x])\n",
    "\n",
    "plot_d_2=plot_d_2.figure\n",
    "plot_d_2.savefig(f'image/plot_d_2.jpg')"
   ]
  },
  {
   "cell_type": "code",
   "execution_count": null,
   "metadata": {},
   "outputs": [],
   "source": []
  }
 ],
 "metadata": {
  "kernelspec": {
   "display_name": "base",
   "language": "python",
   "name": "python3"
  },
  "language_info": {
   "codemirror_mode": {
    "name": "ipython",
    "version": 3
   },
   "file_extension": ".py",
   "mimetype": "text/x-python",
   "name": "python",
   "nbconvert_exporter": "python",
   "pygments_lexer": "ipython3",
   "version": "3.8.8"
  }
 },
 "nbformat": 4,
 "nbformat_minor": 2
}
